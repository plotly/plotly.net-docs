{
 "cells": [
  {
   "cell_type": "code",
   "execution_count": null,
   "id": "ad37c5e1",
   "metadata": {
    "dotnet_interactive": {
     "language": "fsharp"
    }
   },
   "outputs": [
    {
     "data": {
      "text/html": [
       "<div><div></div><div></div><div><strong>Installed Packages</strong><ul><li><span>Plotly.NET, 2.0.0-preview.8</span></li><li><span>Plotly.NET.Interactive, 2.0.0-preview.8</span></li></ul></div></div>"
      ]
     },
     "metadata": {},
     "output_type": "display_data"
    },
    {
     "data": {
      "text/markdown": [
       "Loading extensions from `Plotly.NET.Interactive.dll`"
      ]
     },
     "metadata": {},
     "output_type": "display_data"
    },
    {
     "data": {
      "text/markdown": [
       "Added Kernel Extension including formatters for Plotly.NET charts."
      ]
     },
     "metadata": {},
     "output_type": "display_data"
    }
   ],
   "source": [
    "#r \"nuget: Plotly.NET,  2.0.0-preview.8\"\n",
    "#r \"nuget: Plotly.NET.Interactive,  2.0.0-preview.8\"\n",
    "open Plotly.NET\n"
   ]
  },
  {
   "cell_type": "markdown",
   "id": "7b0ad520",
   "metadata": {
    "dotnet_interactive": {
     "language": "fsharp"
    }
   },
   "source": [
    "# Basic Bar Chart\n",
    "\n",
    "you can use F# arrays to construct your bar charts"
   ]
  },
  {
   "cell_type": "code",
   "execution_count": null,
   "id": "b1d2b90f",
   "metadata": {
    "dotnet_interactive": {
     "language": "fsharp"
    }
   },
   "outputs": [],
   "source": [
    "let animals = [\"giraffes\"; \"orangutans\"; \"monkeys\"];\n",
    "let sfValues = [20; 14; 23]\n",
    "Chart.Column (animals, sfValues);\n"
   ]
  },
  {
   "cell_type": "markdown",
   "id": "b958571d",
   "metadata": {
    "dotnet_interactive": {
     "language": "fsharp"
    }
   },
   "source": [
    "# Grouped Bar Chart\n",
    "\n",
    "Chart.combine for grouping the charts"
   ]
  },
  {
   "cell_type": "code",
   "execution_count": null,
   "id": "462c769d",
   "metadata": {
    "dotnet_interactive": {
     "language": "fsharp"
    }
   },
   "outputs": [],
   "source": [
    "let animals = [\"giraffes\"; \"orangutans\"; \"monkeys\"];\n",
    "let sfValues = [20; 14; 23]\n",
    "let laValues = [12; 18; 29]\n",
    "\n",
    "[\n",
    "    Chart.Column (animals, sfValues, Name=\"SF Zoo\");\n",
    "    Chart.Column (animals, laValues, Name=\"LA Zoo\")\n",
    "]\n",
    "|> Chart.combine\n"
   ]
  },
  {
   "cell_type": "markdown",
   "id": "cc85c835",
   "metadata": {},
   "source": [
    "# Stacked Bar Chart\n",
    "\n",
    "Chart.StackedColumn for constructing stacked bars as shown below"
   ]
  },
  {
   "cell_type": "code",
   "execution_count": null,
   "id": "ea084857",
   "metadata": {
    "dotnet_interactive": {
     "language": "fsharp"
    }
   },
   "outputs": [],
   "source": [
    "let animals = [\"giraffes\"; \"orangutans\"; \"monkeys\"];\n",
    "let sfValues = [20; 14; 23]\n",
    "let laValues = [12; 18; 29]\n",
    "\n",
    "[\n",
    "    Chart.StackedColumn (animals, sfValues, Name=\"SF Zoo\");\n",
    "    Chart.StackedColumn (animals, laValues, Name=\"LA Zoo\")\n",
    "]\n",
    "|> Chart.combine\n"
   ]
  },
  {
   "cell_type": "markdown",
   "id": "16e86ad5",
   "metadata": {},
   "source": [
    "# Bar Chart with Hover Text"
   ]
  },
  {
   "cell_type": "code",
   "execution_count": null,
   "id": "14e6808f",
   "metadata": {
    "dotnet_interactive": {
     "language": "fsharp"
    }
   },
   "outputs": [],
   "source": [
    "open Plotly.NET.TraceObjects\n",
    "\n",
    "let products = [\"Product A\"; \"Product B\"; \"Product C\"];\n",
    "let labels = [\"27% market share\"; \"24% market share\"; \"19% market share\"]\n",
    "let sfValues = [20; 14; 23]\n",
    "\n",
    "Chart.Column (\n",
    "    products,\n",
    "    sfValues,\n",
    "    Labels=labels,\n",
    "    Opacity=0.6\n",
    ")\n",
    "|> Chart.withMarker (\n",
    "    Marker.init (\n",
    "        Color=Color.fromString \"rgb(158,202,225)\", \n",
    "        Line=Line.init (Width=1.5, Color=Color.fromString \"rgb(8,48,107)\")\n",
    "    )\n",
    ")\n",
    "|> Chart.withTitle (\"January 2013 Sales Report\")\n"
   ]
  },
  {
   "cell_type": "markdown",
   "id": "7eb3c92a",
   "metadata": {},
   "source": [
    "# Bar Chart with Direct Labels"
   ]
  },
  {
   "cell_type": "code",
   "execution_count": null,
   "id": "42ae1a0d",
   "metadata": {
    "dotnet_interactive": {
     "language": "fsharp"
    }
   },
   "outputs": [],
   "source": [
    "let products = [\"Product A\"; \"Product B\"; \"Product C\"];\n",
    "let sfValues = [20; 14; 23]\n",
    "Chart.Column (    products,\n",
    "    sfValues,\n",
    "    Labels= sfValues,\n",
    "    TextPosition = StyleParam.TextPosition.Auto\n",
    ") \n",
    "\n",
    "    \n"
   ]
  },
  {
   "cell_type": "markdown",
   "id": "b28582ce",
   "metadata": {},
   "source": [
    "# Rotated Bar Chart Labels"
   ]
  },
  {
   "cell_type": "code",
   "execution_count": null,
   "id": "aea4c51d",
   "metadata": {
    "dotnet_interactive": {
     "language": "fsharp"
    }
   },
   "outputs": [],
   "source": [
    "open Plotly.NET.TraceObjects\n",
    "open Plotly.NET.LayoutObjects\n",
    "\n",
    "let months = [\"Jan\"; \"Feb\"; \"Mar\"; \"Apr\"; \"May\"; \"Jun\";\n",
    "              \"Jul\"; \"Aug\"; \"Sep\"; \"Oct\"; \"Nov\"; \"Dec\"]\n",
    "let primaryProduct = [20; 14; 25; 16; 18; 22; 19; 15; 12; 16; 14; 17]\n",
    "let secondProduct = [19; 14; 22; 14; 16; 19; 15; 14; 10; 12; 12; 16]\n",
    "\n",
    "[\n",
    "    Chart.Column (months, primaryProduct, Name=\"Primary Product\")\n",
    "    |> Chart.withMarker (Marker.init (Color=Color.fromString \"indianred\"));\n",
    "\n",
    "    Chart.Column (months, secondProduct, Name=\"Second Product\")\n",
    "    |> Chart.withMarker (Marker.init (Color=Color.fromString \"lightSalmon\"))\n",
    "]\n",
    "|> Chart.combine\n",
    "|> Chart.withXAxis(LinearAxis.init(TickAngle= -45))\n"
   ]
  },
  {
   "cell_type": "markdown",
   "id": "268771bd",
   "metadata": {},
   "source": [
    "# Customizing Individual Bar Colors"
   ]
  },
  {
   "cell_type": "code",
   "execution_count": null,
   "id": "f95363d7",
   "metadata": {
    "dotnet_interactive": {
     "language": "fsharp"
    }
   },
   "outputs": [],
   "source": [
    "open Plotly.NET.TraceObjects\n",
    "\n",
    "let featureKeys = [\"Feature A\"; \"Feature B\"; \"Feature C\";\n",
    "                   \"Feature D\"; \"Feature E\"]\n",
    "let featureValues = [20; 14; 23; 25; 22]\n",
    "\n",
    "let colors = \n",
    "    [1..5]\n",
    "    |> List.mapi (fun i x -> if i = 1 then Color.fromString \"crimson\" else Color.fromString \"lightslategray\" )\n",
    "    |> List.toSeq\n",
    "\n",
    "let marker = Marker.init(Colors = colors);\n",
    "marker?color<-colors\n",
    "\n",
    "Chart.Column (featureKeys, featureValues, Marker=marker)\n"
   ]
  },
  {
   "cell_type": "markdown",
   "id": "6de6fe42",
   "metadata": {},
   "source": [
    "# Customizing Individual Bar Widths"
   ]
  },
  {
   "cell_type": "code",
   "execution_count": null,
   "id": "febf6cc3",
   "metadata": {
    "dotnet_interactive": {
     "language": "fsharp"
    }
   },
   "outputs": [],
   "source": [
    "let featureKeys = [1.; 2.; 3.; 5.5; 10.]\n",
    "let featureValues = [10; 8; 6; 4; 2]\n",
    "let width = [0.8; 0.8; 0.8; 3.5; 4.]\n",
    "Chart.Column (featureKeys, \n",
    "              featureValues)\n",
    "|> Chart.withMarker(Marker.init(MultiSizes= width))\n",
    "\n",
    "//|> Chart.withLineStyle(Width = width) Doesnt accept float list\n",
    "\n",
    "|> GenericChart.mapTrace(fun t-> \n",
    "                                t?width<-width;\n",
    "                                t)  // workaround\n",
    "\n"
   ]
  },
  {
   "cell_type": "markdown",
   "id": "23882b86",
   "metadata": {},
   "source": [
    "Bar charts with custom widths can be used to make mekko charts (also known as marimekko charts, mosaic plots, or variwide charts)."
   ]
  },
  {
   "cell_type": "code",
   "execution_count": null,
   "id": "91ef5198",
   "metadata": {
    "dotnet_interactive": {
     "language": "fsharp"
    }
   },
   "outputs": [],
   "source": [
    "open Plotly.NET\n",
    "\n",
    "let labels = [|\"apples\"; \"oranges\"; \"pears\"; \"bananas\"|]\n",
    "let widths = [|10.; 20.; 20.; 50.|]\n",
    "\n",
    "let data = \n",
    "   new Map<string,float[]>([\n",
    "        \"South\", [|50.;80.;60.;70.|]\n",
    "        \"North\", [|50.; 20.;40.;30.|]]\n",
    "   )\n",
    "\n",
    "let cumSum x=\n",
    "   (Array.scan (+) 0. x).[1..]\n",
    "\n",
    "let tickVals = Array.map2 (fun x y-> x-y/2.) (cumSum(widths)) widths\n",
    "let ticks = Array.map2 (fun l w -> $\"{l} <br> {w}\") labels widths\n",
    "let textLabels key= Array.map2 (fun h w -> $\"{h} x {w} = <br>\"+ string (h*w))  data.[key] widths\n",
    "\n",
    "[ \n",
    "   for kvp in data ->               \n",
    "               let keys = Array.map2 (fun x y-> x-y) (cumSum(widths)) widths\n",
    "               Chart.Column(values=kvp.Value,keys=keys,Marker=Marker.init(Line=Line.init(Color= Color.fromString \"white\",Width=0.5)),Labels=textLabels kvp.Key)\n",
    "               |> GenericChart.mapTrace(fun t-> \n",
    "                                                \n",
    "                                                t.SetValue(\"width\", widths)\n",
    "                                                t.SetValue(\"offset\", 0.)\n",
    "                                                t.SetValue(\"name\", kvp.Key)\n",
    "                                                t.SetValue(\"textangle\", 0)\n",
    "                                                t.SetValue(\"textposition\", \"inside\")\n",
    "                                                t)  // workaround \n",
    "]\n",
    "|> Chart.combine\n",
    "|> Chart.withLayout(Layout.init(BarMode=StyleParam.BarMode.Stack))\n",
    "|> Chart.withXAxis(LinearAxis.init(TickVals=tickVals,TickText=ticks,ShowGrid=true))\n",
    "\n",
    "\n"
   ]
  },
  {
   "cell_type": "markdown",
   "id": "f051712c",
   "metadata": {},
   "source": [
    "# Customizing Individual Bar Base"
   ]
  },
  {
   "cell_type": "code",
   "execution_count": null,
   "id": "a3666f3c",
   "metadata": {
    "dotnet_interactive": {
     "language": "fsharp"
    }
   },
   "outputs": [],
   "source": [
    "open Plotly.NET\n",
    "\n",
    "let years = [ \"2016\"; \"2017\"; \"2018\" ]\n",
    "\n",
    "[\n",
    "    Chart.Column(years, [500; 600; 700], Name=\"expenses\", Marker=Marker.init(Color=Color.fromString \"crimson\"))\n",
    "        |> GenericChart.mapTrace(fun t-> \n",
    "                        t.SetValue(\"base\",[-500;-600;-700])// workaround\n",
    "                        t) \n",
    "\n",
    "    ;Chart.Column(years, [300; 400; 700], Name=\"revenue\", Marker=Marker.init(Color=Color.fromString \"lightslategrey\"))\n",
    "         |> GenericChart.mapTrace(fun t-> \n",
    "                            t.SetValue(\"base\",0)\n",
    "                            t)  // workaround\n",
    "]\n",
    "|> Chart.combine"
   ]
  },
  {
   "cell_type": "markdown",
   "id": "49523a5a",
   "metadata": {},
   "source": [
    "# Bar Chart with Relative Barmode"
   ]
  },
  {
   "cell_type": "markdown",
   "id": "7b7dc409",
   "metadata": {},
   "source": [
    "With \"relative\" barmode, the bars are stacked on top of one another, with negative values below the axis, positive values above."
   ]
  },
  {
   "cell_type": "code",
   "execution_count": null,
   "id": "c2f88319",
   "metadata": {
    "dotnet_interactive": {
     "language": "fsharp"
    }
   },
   "outputs": [],
   "source": [
    "open Plotly.NET\n",
    "\n",
    "let x = [1; 2; 3; 4]\n",
    "\n",
    "[\n",
    "    Chart.Column(keys=x, values= [1.; 4.; 9.; 16.])\n",
    "    Chart.Column(keys=x, values= [6.; -8.; -4.5; 8.])\n",
    "    Chart.Column(keys=x, values= [-15.; -3.; 4.5; -8.])\n",
    "    Chart.Column(keys=x, values= [-1.; 3.; -3.; -4.])\n",
    "]\n",
    "|> Chart.combine\n",
    "|> Chart.withLayout(Layout.init(BarMode=StyleParam.BarMode.Relative,Title=Title.init(\"Relative BarMode\")))"
   ]
  },
  {
   "cell_type": "markdown",
   "id": "7b813cee",
   "metadata": {},
   "source": [
    "# Bar Chart with Sorted or Ordered Categories"
   ]
  },
  {
   "cell_type": "markdown",
   "id": "a8cf6cc5",
   "metadata": {},
   "source": [
    "Set CategoryOrder to CategoryOrder.CategoryAscending or CategoryDescending for the alphanumerical order of the category names or TotalAscending or TotalDescending for numerical order of values. CategoryOrder for more information. Note that sorting the bars by a particular trace isn\"t possible right now - it\"s only possible to sort by the total values. Of course, you can always sort your data before plotting it if you need more customization.\n",
    "\n",
    "This example orders the bar chart alphabetically with CategoryOrder= StyleParam.CategoryOrder.CategoryAscending"
   ]
  },
  {
   "cell_type": "code",
   "execution_count": null,
   "id": "b389e454",
   "metadata": {
    "dotnet_interactive": {
     "language": "fsharp"
    }
   },
   "outputs": [],
   "source": [
    "open Plotly.NET\n",
    "\n",
    "let x = ['b'; 'a'; 'c'; 'd']\n",
    "\n",
    "[\n",
    "    Chart.Column(x, [2.;5.;1.;9.], Name = \"Montreal\")\n",
    "    Chart.Column(x, [1.;4.;9.;16.], Name = \"Ottawa\")\n",
    "    Chart.Column(x, [6.;8.;4.5;8.], Name = \"Toronto\")\n",
    "]\n",
    "|> Chart.combine\n",
    "|> Chart.withLayout(Layout.init(BarMode=StyleParam.BarMode.Stack))\n",
    "|> Chart.withXAxis(LinearAxis.init(CategoryOrder=StyleParam.CategoryOrder.CategoryAscending))"
   ]
  },
  {
   "cell_type": "markdown",
   "id": "8b35926a",
   "metadata": {},
   "source": [
    "This example shows how to customise sort ordering by defining CategoryOrder to StyleParam.CategoryOrder.Array to derive the ordering from the attribute CategoryArray."
   ]
  },
  {
   "cell_type": "code",
   "execution_count": null,
   "id": "d2a3e7e9",
   "metadata": {
    "dotnet_interactive": {
     "language": "fsharp"
    }
   },
   "outputs": [],
   "source": [
    "open Plotly.NET\n",
    "\n",
    "let x = ['b'; 'a'; 'c'; 'd']\n",
    "\n",
    "[\n",
    "    Chart.Column(x, [2.;5.;1.;9.], Name = \"Montreal\")\n",
    "    Chart.Column(x, [1.;4.;9.;16.], Name = \"Ottawa\")\n",
    "    Chart.Column(x, [6.;8.;4.5;8.], Name = \"Toronto\")\n",
    "]\n",
    "|> Chart.combine\n",
    "|> Chart.withLayout(Layout.init(BarMode=StyleParam.BarMode.Stack))\n",
    "|> Chart.withXAxis(LinearAxis.init(CategoryOrder=StyleParam.CategoryOrder.Array,CategoryArray=['d';'a';'c';'b']))"
   ]
  },
  {
   "cell_type": "markdown",
   "id": "38beca1a",
   "metadata": {},
   "source": [
    "This example orders the bar chart by descending value with CategoryOrder=StyleParam.CategoryOrder.TotalDescending"
   ]
  },
  {
   "cell_type": "code",
   "execution_count": null,
   "id": "7a967497",
   "metadata": {
    "dotnet_interactive": {
     "language": "fsharp"
    }
   },
   "outputs": [],
   "source": [
    "open Plotly.NET\n",
    "\n",
    "let x = ['b'; 'a'; 'c'; 'd']\n",
    "\n",
    "[\n",
    "    Chart.Column(x, [2.;5.;1.;9.], Name = \"Montreal\")\n",
    "    Chart.Column(x, [1.;4.;9.;16.], Name = \"Ottawa\")\n",
    "    Chart.Column(x, [6.;8.;4.5;8.], Name = \"Toronto\")\n",
    "]\n",
    "|> Chart.combine\n",
    "|> Chart.withLayout(Layout.init(BarMode=StyleParam.BarMode.Stack))\n",
    "|> Chart.withXAxis(LinearAxis.init(CategoryOrder=StyleParam.CategoryOrder.TotalDescending))"
   ]
  },
  {
   "cell_type": "markdown",
   "id": "cf784e2f",
   "metadata": {},
   "source": [
    "# Horizontal Bar Charts\n",
    "\n",
    "See examples of horizontal bar charts here.\n",
    "\n",
    "# Bar Charts With Multicategory Axis Type\n",
    "\n",
    "If your plots have arrays for x or y, then the axis type is automatically inferred to be multicategory."
   ]
  },
  {
   "cell_type": "code",
   "execution_count": null,
   "id": "858d1bb9",
   "metadata": {
    "dotnet_interactive": {
     "language": "fsharp"
    }
   },
   "outputs": [],
   "source": [
    "open Plotly.NET\n",
    "\n",
    "let x :Object list = [[\"BB+\"; \"BB+\"; \"BB+\"; \"BB\"; \"BB\"; \"BB\"];[16; 17; 18; 16; 17; 18;]]\n",
    "\n",
    "[\n",
    "    Chart.Column(keys=[], values = [1;2;3;4;5;6])\n",
    "    Chart.Column(keys=[], values = [6;5;4;3;2;1])\n",
    "] \n",
    "|> Chart.combine \n",
    "// |> Chart.withX_Axis(Axis.LinearAxis.init(Tickvals = [\"BB+\"; \"BB+\"; \"BB+\"; \"BB\"; \"BB\"; \"BB\"]))\n",
    "|> GenericChart.mapTrace(fun t-> \n",
    "                                t?x<-x // workaround\n",
    "                                t) \n",
    "|> Chart.withLayout( Layout.init(BarMode = StyleParam.BarMode.Stack))"
   ]
  }
 ],
 "metadata": {
  "jupytext": {
   "notebook_metadata_filter": "language_info,plotly"
  },
  "kernelspec": {
   "display_name": ".NET (F#)",
   "language": "F#",
   "name": ".net-fsharp"
  },
  "language_info": {
   "codemirror_mode": {
    "name": "ipython",
    "version": 3
   },
   "file_extension": ".fs",
   "mimetype": "text/x-fsharp",
   "name": "F#",
   "nbconvert_exporter": "fsharp",
   "pygments_lexer": "fsharp",
   "version": 5
  },
  "plotly": {
   "description": "How to make Bar Charts in F# with Plotly.",
   "display_as": "basic",
   "language": "fsharp",
   "layout": "base",
   "name": "Bar Charts",
   "order": 3,
   "page_type": "example_index",
   "permalink": "fsharp/bar-charts/",
   "thumbnail": "thumbnail/bar.jpg"
  }
 },
 "nbformat": 4,
 "nbformat_minor": 5
}
